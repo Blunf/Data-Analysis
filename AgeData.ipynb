{
 "cells": [
  {
   "cell_type": "code",
   "execution_count": 59,
   "metadata": {},
   "outputs": [],
   "source": [
    "import pandas as pd\n",
    "import matplotlib.pyplot as plt\n",
    "import matplotlib.font_manager as fm\n",
    "from matplotlib import rc\n",
    "\n",
    "# 윈도우 한글\n",
    "\"\"\"\n",
    "font_path = 'C:/Windows/Fonts/NanumGothic.ttf'\n",
    "font_name = fm.FontProperties(fname=font_path).get_name()\n",
    "plt.rc('font', family=font_name)\n",
    "\"\"\"\n",
    "# 맥 한글\n",
    "rc('font', family='AppleGothic')\n",
    "plt.rcParams['axes.unicode_minus'] = False\n",
    "\n",
    "data = pd.read_csv('혼자+생활하면서+곤란한+점_20230313133656.csv', header=2)\n",
    "data.iloc[8:12, 1] = ['20대', '30대', '50대', '70대']\n",
    "supdata = pd.read_csv('1인+가구를+위해+서울시에+요구되는+지원정책_20230313134042.csv', header=2)\n",
    "supdata.iloc[8:12, 1] = ['20대', '30대', '50대', '70대']"
   ]
  },
  {
   "cell_type": "code",
   "execution_count": null,
   "metadata": {},
   "outputs": [],
   "source": [
    "# 데이터프레임 정리 \n",
    "#설문 종합데이터 \n",
    "mask = (data['특성별(1)'] == '응답자연령별')\n",
    "data_age = data[mask]\n",
    "data_age = data_age.iloc[:, [1] + list(range(22, 32))]\n",
    "data_age = data_age.drop(data_age.columns[1], axis=1)\n",
    "\n",
    "#설문 1순위데이터 \n",
    "dataf_age = data[mask]\n",
    "dataf_age = data_age.iloc[:, [1] + list(range(3, 10))]\n",
    "dataf_age = data_age.drop(data_age.columns[1], axis=1)\n",
    "\n",
    "#정책 종합데이터\n",
    "mask1 = (supdata['특성별(1)'] == '응답자연령별')\n",
    "supdata_age = supdata[mask]\n",
    "supdata_age = supdata_age.iloc[:, [1] + list(range(19, 26))]\n",
    "\n",
    "#설문+정책 데이터 합친 데이터프레임\n",
    "supdata_age_selected = supdata_age.iloc[:, 1:7]\n",
    "resultdata = pd.concat([data_age, supdata_age_selected], axis=1)\n",
    "resultdata = resultdata.drop(columns=['기타 (%).2'])\n",
    "\n",
    "data_age"
   ]
  },
  {
   "attachments": {},
   "cell_type": "markdown",
   "metadata": {},
   "source": [
    "설문조사 종합 데이터"
   ]
  },
  {
   "cell_type": "code",
   "execution_count": null,
   "metadata": {},
   "outputs": [],
   "source": [
    "#1+2종합데이터로 비교할 수 있는 그룹 막대 그래프 생성\n",
    "graph = data_age.set_index('특성별(2)').plot(kind='bar', stacked=False, figsize=(8,6))\n",
    "\n",
    "graph.set_xlabel('나이대')\n",
    "graph.set_ylabel('응답비율')\n",
    "\n",
    "graph.legend(title='응답내용', loc='upper left', bbox_to_anchor=(1.05, 1))\n",
    "\n",
    "graph"
   ]
  },
  {
   "cell_type": "code",
   "execution_count": null,
   "metadata": {},
   "outputs": [],
   "source": [
    "#파이차트로 만들기\n",
    "for i in range(0,4):\n",
    "    data = data_age.iloc[i, 1:]\n",
    "    labels = data_age.columns[1:]\n",
    "    plt.pie(data, labels=labels, autopct='%1.1f%%')\n",
    "    plt.title(data_age.iloc[i, 0])\n",
    "    plt.show()"
   ]
  },
  {
   "cell_type": "code",
   "execution_count": null,
   "metadata": {},
   "outputs": [],
   "source": [
    "data_age.plot(data_age.index, data_age['특성별(2)'])"
   ]
  },
  {
   "attachments": {},
   "cell_type": "markdown",
   "metadata": {},
   "source": [
    "설문조사 1순위 데이터"
   ]
  },
  {
   "cell_type": "code",
   "execution_count": null,
   "metadata": {},
   "outputs": [],
   "source": [
    "#1+2종합데이터로 비교할 수 있는 그룹 막대 그래프 생성\n",
    "graph1 = dataf_age.set_index('특성별(2)').plot(kind='bar', stacked=False, figsize=(8,6))\n",
    "\n",
    "graph1.set_xlabel('나이대')\n",
    "graph1.set_ylabel('응답비율')\n",
    "\n",
    "graph1.legend(title='응답내용', loc='upper left', bbox_to_anchor=(1.05, 1))\n",
    "\n",
    "graph1"
   ]
  },
  {
   "cell_type": "code",
   "execution_count": null,
   "metadata": {},
   "outputs": [],
   "source": [
    "#파이차트로 만들기\n",
    "for i in range(0,4):\n",
    "    data = dataf_age.iloc[i, 1:]\n",
    "    labels = dataf_age.columns[1:]\n",
    "    plt.pie(data, labels=labels, autopct='%1.1f%%')\n",
    "    plt.title(dataf_age.iloc[i, 0])\n",
    "    plt.show()"
   ]
  },
  {
   "attachments": {},
   "cell_type": "markdown",
   "metadata": {},
   "source": [
    "정책 종합 데이터"
   ]
  },
  {
   "cell_type": "code",
   "execution_count": null,
   "metadata": {},
   "outputs": [],
   "source": [
    "#1+2종합데이터로 비교할 수 있는 그룹 막대 그래프 생성\n",
    "supgraph = supdata_age.set_index('특성별(2)').plot(kind='bar', stacked=False, figsize=(8,6))\n",
    "\n",
    "supgraph.set_xlabel('나이대')\n",
    "supgraph.set_ylabel('응답비율')\n",
    "\n",
    "supgraph.legend(title='응답내용', loc='upper left', bbox_to_anchor=(1.05, 1))\n",
    "\n",
    "supgraph"
   ]
  },
  {
   "cell_type": "code",
   "execution_count": null,
   "metadata": {},
   "outputs": [],
   "source": [
    "#파이차트로 만들기\n",
    "for i in range(0,4):\n",
    "    supcircledata = supdata_age.iloc[i, 1:]\n",
    "    labels = supdata_age.columns[1:]\n",
    "    plt.pie(supcircledata, labels=labels, autopct='%1.1f%%')\n",
    "    plt.title(supdata_age.iloc[i, 0])\n",
    "    plt.show()"
   ]
  },
  {
   "attachments": {},
   "cell_type": "markdown",
   "metadata": {},
   "source": [
    "설문결과를 바탕으로 정책의 중요도 파악, 나이대별로 변화도 "
   ]
  },
  {
   "cell_type": "code",
   "execution_count": null,
   "metadata": {},
   "outputs": [],
   "source": [
    "#힘든 요소를 바탕으로 지원 정책의 중요도 및 우선요소 파악하기\n",
    "graph1 = data_age.set_index('특성별(2)').plot(kind='bar', stacked=False, figsize=(8,6))\n",
    "\n",
    "graph1.set_xlabel('나이대')\n",
    "graph1.set_ylabel('응답비율')\n",
    "\n",
    "graph1.legend(title='응답내용', loc='upper left', bbox_to_anchor=(1.05, 1))\n",
    "\n",
    "supgraph = supdata_age.set_index('특성별(2)').plot(kind='bar', stacked=False, figsize=(8,6))\n",
    "\n",
    "supgraph.set_xlabel('나이대')\n",
    "supgraph.set_ylabel('응답비율')\n",
    "\n",
    "supgraph.legend(title='응답내용', loc='upper left', bbox_to_anchor=(1.05, 1))\n",
    "\n",
    "graph1\n",
    "supgraph"
   ]
  }
 ],
 "metadata": {
  "kernelspec": {
   "display_name": "base",
   "language": "python",
   "name": "python3"
  },
  "language_info": {
   "codemirror_mode": {
    "name": "ipython",
    "version": 3
   },
   "file_extension": ".py",
   "mimetype": "text/x-python",
   "name": "python",
   "nbconvert_exporter": "python",
   "pygments_lexer": "ipython3",
   "version": "3.9.13"
  },
  "orig_nbformat": 4,
  "vscode": {
   "interpreter": {
    "hash": "a15c55fd5ef3df5e549212b7ab5e6a5a5e61c9dd1e0f4e60240c9a7fb049acb1"
   }
  }
 },
 "nbformat": 4,
 "nbformat_minor": 2
}
